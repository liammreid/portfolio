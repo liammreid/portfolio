{
 "cells": [
  {
   "cell_type": "code",
   "execution_count": 7,
   "id": "0ef9ddea",
   "metadata": {},
   "outputs": [],
   "source": [
    "import numpy as np\n",
    "import pandas as pd\n",
    "import seaborn as sns\n",
    "import matplotlib.pyplot as plt # typical libraries for data manipulation and visualization\n",
    "\n",
    "from sklearn.tree import DecisionTreeClassifier\n",
    "from sklearn.model_selection import KFold\n",
    "from sklearn.model_selection import train_test_split\n",
    "from sklearn.model_selection import cross_validate\n",
    "from sklearn.model_selection import cross_val_predict\n",
    "from sklearn.metrics import classification_report, confusion_matrix\n",
    "import sklearn.metrics as metrics # sklearn packages needed to run cross-validation and evaluate model performance\n",
    "\n",
    "from sklearn.linear_model import LogisticRegression # sklearn function for Logistic Regression\n",
    "\n",
    "import warnings\n",
    "warnings.filterwarnings(\"ignore\") # prevents warning messages from being displayed (optional)"
   ]
  },
  {
   "cell_type": "code",
   "execution_count": 8,
   "id": "4cb6bb72",
   "metadata": {},
   "outputs": [],
   "source": [
    "df = pd.read_csv('asc_variables_liam.csv')"
   ]
  },
  {
   "cell_type": "code",
   "execution_count": 9,
   "id": "2db6a2b7",
   "metadata": {},
   "outputs": [],
   "source": [
    "x = df.drop(['millid','donated_this_year','Number of Years Giving','Credited','annualgivingpdi','Consistent Donor','majorgivingevi','annualgivingevi'], axis=1)\n",
    "x= pd.get_dummies(data=x, drop_first=False)\n",
    "x = x.fillna(0)\n",
    "\n",
    "y = df['donated_this_year'].astype(str)\n",
    "y = y.fillna(0)"
   ]
  },
  {
   "cell_type": "code",
   "execution_count": 10,
   "id": "db034536",
   "metadata": {},
   "outputs": [
    {
     "name": "stdout",
     "output_type": "stream",
     "text": [
      "(305915, 125)\n",
      "(76479, 125)\n",
      "(305915,)\n",
      "(76479,)\n"
     ]
    }
   ],
   "source": [
    "x_train, x_test, y_train, y_test = train_test_split(x, y, test_size = 0.2, random_state = 100)\n",
    "\n",
    "print(x_train.shape)\n",
    "print(x_test.shape)\n",
    "print(y_train.shape)\n",
    "print(y_test.shape)"
   ]
  },
  {
   "cell_type": "code",
   "execution_count": 11,
   "id": "0a55343b",
   "metadata": {},
   "outputs": [],
   "source": [
    "cv = KFold(n_splits = 10, random_state = 1, shuffle = True) "
   ]
  },
  {
   "cell_type": "code",
   "execution_count": 12,
   "id": "164aeeca",
   "metadata": {},
   "outputs": [],
   "source": [
    "model = DecisionTreeClassifier(criterion = \"gini\", random_state=100, \n",
    "                               max_depth=50, min_samples_leaf=15, min_impurity_decrease=0.004)"
   ]
  },
  {
   "cell_type": "code",
   "execution_count": 13,
   "id": "eea46693",
   "metadata": {},
   "outputs": [],
   "source": [
    "y_pred = cross_val_predict(model, x_train, y_train, cv = cv)\n",
    "\n",
    "x_train['predicted_class'] = y_pred # add predictions to x_train dataframe\n",
    "x_train['actual_class'] = y_train # add actual classes to x_train dataframe"
   ]
  },
  {
   "cell_type": "code",
   "execution_count": 14,
   "id": "937bcea3",
   "metadata": {},
   "outputs": [
    {
     "name": "stdout",
     "output_type": "stream",
     "text": [
      "              precision    recall  f1-score   support\n",
      "\n",
      "         0.0       0.99      0.99      0.99    294426\n",
      "         1.0       0.73      0.69      0.71     11489\n",
      "         nan       0.00      0.00      0.00         0\n",
      "\n",
      "    accuracy                           0.98    305915\n",
      "   macro avg       0.57      0.56      0.57    305915\n",
      "weighted avg       0.98      0.98      0.98    305915\n",
      "\n"
     ]
    },
    {
     "data": {
      "text/plain": [
       "0.7022782215551846"
      ]
     },
     "execution_count": 14,
     "metadata": {},
     "output_type": "execute_result"
    }
   ],
   "source": [
    "print(classification_report(y_pred, y_train)) # produces overall accuracy, precision, recall and f1\n",
    "\n",
    "metrics.cohen_kappa_score(y_pred, y_train) # produces cohen's kappa"
   ]
  },
  {
   "cell_type": "code",
   "execution_count": 15,
   "id": "f917dbf9",
   "metadata": {},
   "outputs": [
    {
     "data": {
      "image/png": "[encoded data removed]",
      "text/plain": [
       "<Figure size 432x288 with 2 Axes>"
      ]
     },
     "metadata": {
      "needs_background": "light"
     },
     "output_type": "display_data"
    }
   ],
   "source": [
    "conf = pd.DataFrame(x_train, columns=['actual_class','predicted_class'])\n",
    "confusion_matrix = pd.crosstab(conf['actual_class'], conf['predicted_class'], rownames=['Actual'], colnames=['Predicted'])\n",
    "\n",
    "sns.heatmap(confusion_matrix, annot=True, fmt='g')\n",
    "sns.set(rc={'figure.figsize':(12,10)})\n",
    "plt.show()"
   ]
  },
  {
   "cell_type": "code",
   "execution_count": 16,
   "id": "d8588090",
   "metadata": {},
   "outputs": [],
   "source": [
    "x_train = x_train.drop(['actual_class', 'predicted_class'], axis=1) # drop added actual and predicted classes columns\n",
    "\n",
    "model.fit(x_train, y_train)\n",
    "\n",
    "predictions = model.predict(x_test)"
   ]
  },
  {
   "cell_type": "code",
   "execution_count": 17,
   "id": "da61f77c",
   "metadata": {},
   "outputs": [
    {
     "name": "stdout",
     "output_type": "stream",
     "text": [
      "              precision    recall  f1-score   support\n",
      "\n",
      "         0.0       0.99      0.99      0.99     73773\n",
      "         1.0       0.69      0.74      0.71      2706\n",
      "\n",
      "    accuracy                           0.98     76479\n",
      "   macro avg       0.84      0.86      0.85     76479\n",
      "weighted avg       0.98      0.98      0.98     76479\n",
      "\n"
     ]
    }
   ],
   "source": [
    "print(classification_report(y_test, predictions))"
   ]
  },
  {
   "cell_type": "code",
   "execution_count": null,
   "id": "29069c3a",
   "metadata": {},
   "outputs": [],
   "source": []
  }
 ],
 "metadata": {
  "kernelspec": {
   "display_name": "Python 3 (ipykernel)",
   "language": "python",
   "name": "python3"
  },
  "language_info": {
   "codemirror_mode": {
    "name": "ipython",
    "version": 3
   },
   "file_extension": ".py",
   "mimetype": "text/x-python",
   "name": "python",
   "nbconvert_exporter": "python",
   "pygments_lexer": "ipython3",
   "version": "3.9.12"
  }
 },
 "nbformat": 4,
 "nbformat_minor": 5
}
